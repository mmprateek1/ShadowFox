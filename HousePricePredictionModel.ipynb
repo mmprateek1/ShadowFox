{
 "cells": [
  {
   "cell_type": "code",
   "execution_count": 1,
   "id": "87bc0c65-5c03-4030-8eb7-ad20f0f2b2fd",
   "metadata": {},
   "outputs": [],
   "source": [
    "import pandas as pd"
   ]
  },
  {
   "cell_type": "code",
   "execution_count": 2,
   "id": "9859997f-184c-41a1-8ba2-a3925edf317b",
   "metadata": {},
   "outputs": [],
   "source": [
    "df = pd.read_csv('HousingData.csv')"
   ]
  },
  {
   "cell_type": "code",
   "execution_count": 3,
   "id": "730051b2-c1a2-423e-90a3-e07bea722b3b",
   "metadata": {},
   "outputs": [
    {
     "name": "stdout",
     "output_type": "stream",
     "text": [
      "      CRIM    ZN  INDUS  CHAS    NOX     RM   AGE     DIS  RAD  TAX  PTRATIO  \\\n",
      "0  0.00632  18.0   2.31   0.0  0.538  6.575  65.2  4.0900    1  296     15.3   \n",
      "1  0.02731   0.0   7.07   0.0  0.469  6.421  78.9  4.9671    2  242     17.8   \n",
      "2  0.02729   0.0   7.07   0.0  0.469  7.185  61.1  4.9671    2  242     17.8   \n",
      "3  0.03237   0.0   2.18   0.0  0.458  6.998  45.8  6.0622    3  222     18.7   \n",
      "4  0.06905   0.0   2.18   0.0  0.458  7.147  54.2  6.0622    3  222     18.7   \n",
      "\n",
      "        B  LSTAT  MEDV  \n",
      "0  396.90   4.98  24.0  \n",
      "1  396.90   9.14  21.6  \n",
      "2  392.83   4.03  34.7  \n",
      "3  394.63   2.94  33.4  \n",
      "4  396.90    NaN  36.2  \n"
     ]
    }
   ],
   "source": [
    "print(df.head())"
   ]
  },
  {
   "cell_type": "code",
   "execution_count": 4,
   "id": "39aee22c-2545-4e65-a886-526a11b083cf",
   "metadata": {},
   "outputs": [
    {
     "name": "stdout",
     "output_type": "stream",
     "text": [
      "Missing values before cleaning:\n",
      "CRIM       20\n",
      "ZN         20\n",
      "INDUS      20\n",
      "CHAS       20\n",
      "NOX         0\n",
      "RM          0\n",
      "AGE        20\n",
      "DIS         0\n",
      "RAD         0\n",
      "TAX         0\n",
      "PTRATIO     0\n",
      "B           0\n",
      "LSTAT      20\n",
      "MEDV        0\n",
      "dtype: int64\n",
      "\n",
      "Missing values after cleaning:\n",
      "CRIM       0\n",
      "ZN         0\n",
      "INDUS      0\n",
      "CHAS       0\n",
      "NOX        0\n",
      "RM         0\n",
      "AGE        0\n",
      "DIS        0\n",
      "RAD        0\n",
      "TAX        0\n",
      "PTRATIO    0\n",
      "B          0\n",
      "LSTAT      0\n",
      "MEDV       0\n",
      "dtype: int64\n"
     ]
    }
   ],
   "source": [
    "# Check how many missing values are in each column\n",
    "print(\"Missing values before cleaning:\")\n",
    "print(df.isnull().sum())\n",
    "\n",
    "# Fill any NaN values with the mean of that column\n",
    "df.fillna(df.mean(), inplace=True)\n",
    "\n",
    "print(\"\\nMissing values after cleaning:\")\n",
    "print(df.isnull().sum())"
   ]
  },
  {
   "cell_type": "code",
   "execution_count": 5,
   "id": "fb8de3b0-679a-40af-8de5-1c6b2c053fc6",
   "metadata": {},
   "outputs": [
    {
     "name": "stdout",
     "output_type": "stream",
     "text": [
      "\n",
      "Data has been successfully separated into Features (X) and Target (y).\n"
     ]
    }
   ],
   "source": [
    "# X is our 'question' data - all columns EXCEPT the price ('MEDV')\n",
    "X = df.drop('MEDV', axis=1)\n",
    "\n",
    "# y is our 'answer' data - ONLY the price ('MEDV') column\n",
    "y = df['MEDV']\n",
    "\n",
    "print(\"\\nData has been successfully separated into Features (X) and Target (y).\")"
   ]
  },
  {
   "cell_type": "code",
   "execution_count": 6,
   "id": "b57775f1-c294-4297-8532-d7b3f3d92302",
   "metadata": {},
   "outputs": [
    {
     "name": "stdout",
     "output_type": "stream",
     "text": [
      "Training set has 404 samples.\n",
      "Testing set has 102 samples.\n"
     ]
    }
   ],
   "source": [
    "from sklearn.model_selection import train_test_split\n",
    "\n",
    "# Split the data into training and testing sets\n",
    "X_train, X_test, y_train, y_test = train_test_split(X, y, test_size=0.2, random_state=42)\n",
    "\n",
    "print(f\"Training set has {X_train.shape[0]} samples.\")\n",
    "print(f\"Testing set has {X_test.shape[0]} samples.\")"
   ]
  },
  {
   "cell_type": "code",
   "execution_count": 7,
   "id": "7d0e5696-6257-4fc3-ad81-90631d3254dc",
   "metadata": {},
   "outputs": [
    {
     "name": "stdout",
     "output_type": "stream",
     "text": [
      "--- Model Performance ---\n",
      "Mean Squared Error (MSE): 25.02\n",
      "R-squared Score: 0.66\n"
     ]
    }
   ],
   "source": [
    "from sklearn.linear_model import LinearRegression\n",
    "from sklearn.metrics import mean_squared_error, r2_score\n",
    "\n",
    "# 1. Create a blank model\n",
    "model = LinearRegression()\n",
    "\n",
    "# 2. Train the model on the training data\n",
    "model.fit(X_train, y_train)\n",
    "\n",
    "# 3. Make predictions on the unseen test data\n",
    "y_pred = model.predict(X_test)\n",
    "\n",
    "# 4. Evaluate the model's performance\n",
    "mse = mean_squared_error(y_test, y_pred)\n",
    "r2 = r2_score(y_test, y_pred)\n",
    "\n",
    "print(\"--- Model Performance ---\")\n",
    "print(f\"Mean Squared Error (MSE): {mse:.2f}\")\n",
    "print(f\"R-squared Score: {r2:.2f}\")"
   ]
  },
  {
   "cell_type": "code",
   "execution_count": 8,
   "id": "319fa335-f5c5-43b0-8801-b01732c693b7",
   "metadata": {},
   "outputs": [
    {
     "name": "stdout",
     "output_type": "stream",
     "text": [
      "Random Forest R-squared Score: 0.89\n"
     ]
    }
   ],
   "source": [
    "from sklearn.ensemble import RandomForestRegressor\n",
    "\n",
    "# Create and train a new, more powerful model\n",
    "rf_model = RandomForestRegressor(random_state=42)\n",
    "rf_model.fit(X_train, y_train)\n",
    "\n",
    "# Make predictions and evaluate it\n",
    "rf_pred = rf_model.predict(X_test)\n",
    "rf_r2 = r2_score(y_test, rf_pred)\n",
    "\n",
    "print(f\"Random Forest R-squared Score: {rf_r2:.2f}\")"
   ]
  },
  {
   "cell_type": "code",
   "execution_count": 9,
   "id": "b6f94519-cfe3-4f21-9d9a-1419f8c1b138",
   "metadata": {},
   "outputs": [
    {
     "data": {
      "image/png": "[encoded data removed]",
      "text/plain": [
       "<Figure size 800x600 with 1 Axes>"
      ]
     },
     "metadata": {},
     "output_type": "display_data"
    }
   ],
   "source": [
    "import matplotlib.pyplot as plt\n",
    "\n",
    "plt.figure(figsize=(8, 6))\n",
    "plt.scatter(y_test, y_pred)\n",
    "plt.xlabel(\"Actual Prices\")\n",
    "plt.ylabel(\"Predicted Prices\")\n",
    "plt.title(\"Actual Prices vs. Predicted Prices\")\n",
    "plt.plot([min(y_test), max(y_test)], [min(y_test), max(y_test)], color='red', linewidth=2) # a perfect prediction line\n",
    "plt.show()"
   ]
  },
  {
   "cell_type": "code",
   "execution_count": null,
   "id": "7cd6223b-99be-42ac-86e9-b9416c8eb300",
   "metadata": {},
   "outputs": [],
   "source": []
  }
 ],
 "metadata": {
  "kernelspec": {
   "display_name": "Python 3 (ipykernel)",
   "language": "python",
   "name": "python3"
  },
  "language_info": {
   "codemirror_mode": {
    "name": "ipython",
    "version": 3
   },
   "file_extension": ".py",
   "mimetype": "text/x-python",
   "name": "python",
   "nbconvert_exporter": "python",
   "pygments_lexer": "ipython3",
   "version": "3.10.9"
  }
 },
 "nbformat": 4,
 "nbformat_minor": 5
}
